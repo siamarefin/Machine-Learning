{
 "cells": [
  {
   "cell_type": "markdown",
   "id": "5f4d77f3",
   "metadata": {
    "papermill": {
     "duration": 0.007675,
     "end_time": "2023-10-18T05:19:51.294054",
     "exception": false,
     "start_time": "2023-10-18T05:19:51.286379",
     "status": "completed"
    },
    "tags": []
   },
   "source": [
    "**This notebook is an exercise in the [Intermediate Machine Learning](https://www.kaggle.com/learn/intermediate-machine-learning) course.  You can reference the tutorial at [this link](https://www.kaggle.com/alexisbcook/missing-values).**\n",
    "\n",
    "---\n"
   ]
  },
  {
   "cell_type": "markdown",
   "id": "ee6a4364",
   "metadata": {
    "papermill": {
     "duration": 0.006651,
     "end_time": "2023-10-18T05:19:51.308489",
     "exception": false,
     "start_time": "2023-10-18T05:19:51.301838",
     "status": "completed"
    },
    "tags": []
   },
   "source": [
    "Now it's your turn to test your new knowledge of **missing values** handling. You'll probably find it makes a big difference.\n",
    "\n",
    "# Setup\n",
    "\n",
    "The questions will give you feedback on your work. Run the following cell to set up the feedback system."
   ]
  },
  {
   "cell_type": "code",
   "execution_count": 1,
   "id": "d08fa58d",
   "metadata": {
    "execution": {
     "iopub.execute_input": "2023-10-18T05:19:51.324598Z",
     "iopub.status.busy": "2023-10-18T05:19:51.323912Z",
     "iopub.status.idle": "2023-10-18T05:19:51.717113Z",
     "shell.execute_reply": "2023-10-18T05:19:51.716009Z"
    },
    "papermill": {
     "duration": 0.404879,
     "end_time": "2023-10-18T05:19:51.720284",
     "exception": false,
     "start_time": "2023-10-18T05:19:51.315405",
     "status": "completed"
    },
    "tags": []
   },
   "outputs": [
    {
     "name": "stdout",
     "output_type": "stream",
     "text": [
      "Setup Complete\n"
     ]
    }
   ],
   "source": [
    "# Set up code checking\n",
    "import os\n",
    "if not os.path.exists(\"../input/train.csv\"):\n",
    "    os.symlink(\"../input/home-data-for-ml-course/train.csv\", \"../input/train.csv\")  \n",
    "    os.symlink(\"../input/home-data-for-ml-course/test.csv\", \"../input/test.csv\") \n",
    "from learntools.core import binder\n",
    "binder.bind(globals())\n",
    "from learntools.ml_intermediate.ex2 import *\n",
    "print(\"Setup Complete\")"
   ]
  },
  {
   "cell_type": "markdown",
   "id": "7c3c52c8",
   "metadata": {
    "papermill": {
     "duration": 0.006551,
     "end_time": "2023-10-18T05:19:51.734891",
     "exception": false,
     "start_time": "2023-10-18T05:19:51.728340",
     "status": "completed"
    },
    "tags": []
   },
   "source": [
    "In this exercise, you will work with data from the [Housing Prices Competition for Kaggle Learn Users](https://www.kaggle.com/c/home-data-for-ml-course). \n",
    "\n",
    "![Ames Housing dataset image](https://storage.googleapis.com/kaggle-media/learn/images/lTJVG4e.png)\n",
    "\n",
    "Run the next code cell without changes to load the training and validation sets in `X_train`, `X_valid`, `y_train`, and `y_valid`.  The test set is loaded in `X_test`."
   ]
  },
  {
   "cell_type": "code",
   "execution_count": 2,
   "id": "8bed2686",
   "metadata": {
    "execution": {
     "iopub.execute_input": "2023-10-18T05:19:51.750933Z",
     "iopub.status.busy": "2023-10-18T05:19:51.749693Z",
     "iopub.status.idle": "2023-10-18T05:19:53.083767Z",
     "shell.execute_reply": "2023-10-18T05:19:53.082968Z"
    },
    "papermill": {
     "duration": 1.344111,
     "end_time": "2023-10-18T05:19:53.085873",
     "exception": false,
     "start_time": "2023-10-18T05:19:51.741762",
     "status": "completed"
    },
    "tags": []
   },
   "outputs": [],
   "source": [
    "import pandas as pd\n",
    "from sklearn.model_selection import train_test_split\n",
    "\n",
    "# Read the data\n",
    "X_full = pd.read_csv('../input/train.csv', index_col='Id')\n",
    "X_test_full = pd.read_csv('../input/test.csv', index_col='Id')\n",
    "\n",
    "# Remove rows with missing target, separate target from predictors\n",
    "X_full.dropna(axis=0, subset=['SalePrice'], inplace=True)\n",
    "y = X_full.SalePrice\n",
    "X_full.drop(['SalePrice'], axis=1, inplace=True)\n",
    "\n",
    "# To keep things simple, we'll use only numerical predictors\n",
    "X = X_full.select_dtypes(exclude=['object'])\n",
    "X_test = X_test_full.select_dtypes(exclude=['object'])\n",
    "\n",
    "# Break off validation set from training data\n",
    "X_train, X_valid, y_train, y_valid = train_test_split(X, y, train_size=0.8, test_size=0.2,\n",
    "                                                      random_state=0)"
   ]
  },
  {
   "cell_type": "markdown",
   "id": "910e7ab4",
   "metadata": {
    "papermill": {
     "duration": 0.007523,
     "end_time": "2023-10-18T05:19:53.100514",
     "exception": false,
     "start_time": "2023-10-18T05:19:53.092991",
     "status": "completed"
    },
    "tags": []
   },
   "source": [
    "Use the next code cell to print the first five rows of the data."
   ]
  },
  {
   "cell_type": "code",
   "execution_count": 3,
   "id": "6981f2a5",
   "metadata": {
    "execution": {
     "iopub.execute_input": "2023-10-18T05:19:53.116876Z",
     "iopub.status.busy": "2023-10-18T05:19:53.115850Z",
     "iopub.status.idle": "2023-10-18T05:19:53.137985Z",
     "shell.execute_reply": "2023-10-18T05:19:53.136939Z"
    },
    "papermill": {
     "duration": 0.032512,
     "end_time": "2023-10-18T05:19:53.140188",
     "exception": false,
     "start_time": "2023-10-18T05:19:53.107676",
     "status": "completed"
    },
    "tags": []
   },
   "outputs": [
    {
     "data": {
      "text/html": [
       "<div>\n",
       "<style scoped>\n",
       "    .dataframe tbody tr th:only-of-type {\n",
       "        vertical-align: middle;\n",
       "    }\n",
       "\n",
       "    .dataframe tbody tr th {\n",
       "        vertical-align: top;\n",
       "    }\n",
       "\n",
       "    .dataframe thead th {\n",
       "        text-align: right;\n",
       "    }\n",
       "</style>\n",
       "<table border=\"1\" class=\"dataframe\">\n",
       "  <thead>\n",
       "    <tr style=\"text-align: right;\">\n",
       "      <th></th>\n",
       "      <th>MSSubClass</th>\n",
       "      <th>LotFrontage</th>\n",
       "      <th>LotArea</th>\n",
       "      <th>OverallQual</th>\n",
       "      <th>OverallCond</th>\n",
       "      <th>YearBuilt</th>\n",
       "      <th>YearRemodAdd</th>\n",
       "      <th>MasVnrArea</th>\n",
       "      <th>BsmtFinSF1</th>\n",
       "      <th>BsmtFinSF2</th>\n",
       "      <th>...</th>\n",
       "      <th>GarageArea</th>\n",
       "      <th>WoodDeckSF</th>\n",
       "      <th>OpenPorchSF</th>\n",
       "      <th>EnclosedPorch</th>\n",
       "      <th>3SsnPorch</th>\n",
       "      <th>ScreenPorch</th>\n",
       "      <th>PoolArea</th>\n",
       "      <th>MiscVal</th>\n",
       "      <th>MoSold</th>\n",
       "      <th>YrSold</th>\n",
       "    </tr>\n",
       "    <tr>\n",
       "      <th>Id</th>\n",
       "      <th></th>\n",
       "      <th></th>\n",
       "      <th></th>\n",
       "      <th></th>\n",
       "      <th></th>\n",
       "      <th></th>\n",
       "      <th></th>\n",
       "      <th></th>\n",
       "      <th></th>\n",
       "      <th></th>\n",
       "      <th></th>\n",
       "      <th></th>\n",
       "      <th></th>\n",
       "      <th></th>\n",
       "      <th></th>\n",
       "      <th></th>\n",
       "      <th></th>\n",
       "      <th></th>\n",
       "      <th></th>\n",
       "      <th></th>\n",
       "      <th></th>\n",
       "    </tr>\n",
       "  </thead>\n",
       "  <tbody>\n",
       "    <tr>\n",
       "      <th>619</th>\n",
       "      <td>20</td>\n",
       "      <td>90.0</td>\n",
       "      <td>11694</td>\n",
       "      <td>9</td>\n",
       "      <td>5</td>\n",
       "      <td>2007</td>\n",
       "      <td>2007</td>\n",
       "      <td>452.0</td>\n",
       "      <td>48</td>\n",
       "      <td>0</td>\n",
       "      <td>...</td>\n",
       "      <td>774</td>\n",
       "      <td>0</td>\n",
       "      <td>108</td>\n",
       "      <td>0</td>\n",
       "      <td>0</td>\n",
       "      <td>260</td>\n",
       "      <td>0</td>\n",
       "      <td>0</td>\n",
       "      <td>7</td>\n",
       "      <td>2007</td>\n",
       "    </tr>\n",
       "    <tr>\n",
       "      <th>871</th>\n",
       "      <td>20</td>\n",
       "      <td>60.0</td>\n",
       "      <td>6600</td>\n",
       "      <td>5</td>\n",
       "      <td>5</td>\n",
       "      <td>1962</td>\n",
       "      <td>1962</td>\n",
       "      <td>0.0</td>\n",
       "      <td>0</td>\n",
       "      <td>0</td>\n",
       "      <td>...</td>\n",
       "      <td>308</td>\n",
       "      <td>0</td>\n",
       "      <td>0</td>\n",
       "      <td>0</td>\n",
       "      <td>0</td>\n",
       "      <td>0</td>\n",
       "      <td>0</td>\n",
       "      <td>0</td>\n",
       "      <td>8</td>\n",
       "      <td>2009</td>\n",
       "    </tr>\n",
       "    <tr>\n",
       "      <th>93</th>\n",
       "      <td>30</td>\n",
       "      <td>80.0</td>\n",
       "      <td>13360</td>\n",
       "      <td>5</td>\n",
       "      <td>7</td>\n",
       "      <td>1921</td>\n",
       "      <td>2006</td>\n",
       "      <td>0.0</td>\n",
       "      <td>713</td>\n",
       "      <td>0</td>\n",
       "      <td>...</td>\n",
       "      <td>432</td>\n",
       "      <td>0</td>\n",
       "      <td>0</td>\n",
       "      <td>44</td>\n",
       "      <td>0</td>\n",
       "      <td>0</td>\n",
       "      <td>0</td>\n",
       "      <td>0</td>\n",
       "      <td>8</td>\n",
       "      <td>2009</td>\n",
       "    </tr>\n",
       "    <tr>\n",
       "      <th>818</th>\n",
       "      <td>20</td>\n",
       "      <td>NaN</td>\n",
       "      <td>13265</td>\n",
       "      <td>8</td>\n",
       "      <td>5</td>\n",
       "      <td>2002</td>\n",
       "      <td>2002</td>\n",
       "      <td>148.0</td>\n",
       "      <td>1218</td>\n",
       "      <td>0</td>\n",
       "      <td>...</td>\n",
       "      <td>857</td>\n",
       "      <td>150</td>\n",
       "      <td>59</td>\n",
       "      <td>0</td>\n",
       "      <td>0</td>\n",
       "      <td>0</td>\n",
       "      <td>0</td>\n",
       "      <td>0</td>\n",
       "      <td>7</td>\n",
       "      <td>2008</td>\n",
       "    </tr>\n",
       "    <tr>\n",
       "      <th>303</th>\n",
       "      <td>20</td>\n",
       "      <td>118.0</td>\n",
       "      <td>13704</td>\n",
       "      <td>7</td>\n",
       "      <td>5</td>\n",
       "      <td>2001</td>\n",
       "      <td>2002</td>\n",
       "      <td>150.0</td>\n",
       "      <td>0</td>\n",
       "      <td>0</td>\n",
       "      <td>...</td>\n",
       "      <td>843</td>\n",
       "      <td>468</td>\n",
       "      <td>81</td>\n",
       "      <td>0</td>\n",
       "      <td>0</td>\n",
       "      <td>0</td>\n",
       "      <td>0</td>\n",
       "      <td>0</td>\n",
       "      <td>1</td>\n",
       "      <td>2006</td>\n",
       "    </tr>\n",
       "  </tbody>\n",
       "</table>\n",
       "<p>5 rows × 36 columns</p>\n",
       "</div>"
      ],
      "text/plain": [
       "     MSSubClass  LotFrontage  LotArea  OverallQual  OverallCond  YearBuilt  \\\n",
       "Id                                                                           \n",
       "619          20         90.0    11694            9            5       2007   \n",
       "871          20         60.0     6600            5            5       1962   \n",
       "93           30         80.0    13360            5            7       1921   \n",
       "818          20          NaN    13265            8            5       2002   \n",
       "303          20        118.0    13704            7            5       2001   \n",
       "\n",
       "     YearRemodAdd  MasVnrArea  BsmtFinSF1  BsmtFinSF2  ...  GarageArea  \\\n",
       "Id                                                     ...               \n",
       "619          2007       452.0          48           0  ...         774   \n",
       "871          1962         0.0           0           0  ...         308   \n",
       "93           2006         0.0         713           0  ...         432   \n",
       "818          2002       148.0        1218           0  ...         857   \n",
       "303          2002       150.0           0           0  ...         843   \n",
       "\n",
       "     WoodDeckSF  OpenPorchSF  EnclosedPorch  3SsnPorch  ScreenPorch  PoolArea  \\\n",
       "Id                                                                              \n",
       "619           0          108              0          0          260         0   \n",
       "871           0            0              0          0            0         0   \n",
       "93            0            0             44          0            0         0   \n",
       "818         150           59              0          0            0         0   \n",
       "303         468           81              0          0            0         0   \n",
       "\n",
       "     MiscVal  MoSold  YrSold  \n",
       "Id                            \n",
       "619        0       7    2007  \n",
       "871        0       8    2009  \n",
       "93         0       8    2009  \n",
       "818        0       7    2008  \n",
       "303        0       1    2006  \n",
       "\n",
       "[5 rows x 36 columns]"
      ]
     },
     "execution_count": 3,
     "metadata": {},
     "output_type": "execute_result"
    }
   ],
   "source": [
    "X_train.head()"
   ]
  },
  {
   "cell_type": "markdown",
   "id": "e0401898",
   "metadata": {
    "papermill": {
     "duration": 0.007065,
     "end_time": "2023-10-18T05:19:53.154747",
     "exception": false,
     "start_time": "2023-10-18T05:19:53.147682",
     "status": "completed"
    },
    "tags": []
   },
   "source": [
    "You can already see a few missing values in the first several rows.  In the next step, you'll obtain a more comprehensive understanding of the missing values in the dataset.\n",
    "\n",
    "# Step 1: Preliminary investigation\n",
    "\n",
    "Run the code cell below without changes."
   ]
  },
  {
   "cell_type": "code",
   "execution_count": 4,
   "id": "4e15ab5e",
   "metadata": {
    "execution": {
     "iopub.execute_input": "2023-10-18T05:19:53.171413Z",
     "iopub.status.busy": "2023-10-18T05:19:53.170844Z",
     "iopub.status.idle": "2023-10-18T05:19:53.177689Z",
     "shell.execute_reply": "2023-10-18T05:19:53.176578Z"
    },
    "papermill": {
     "duration": 0.017895,
     "end_time": "2023-10-18T05:19:53.180011",
     "exception": false,
     "start_time": "2023-10-18T05:19:53.162116",
     "status": "completed"
    },
    "tags": []
   },
   "outputs": [
    {
     "name": "stdout",
     "output_type": "stream",
     "text": [
      "(1168, 36)\n",
      "LotFrontage    212\n",
      "MasVnrArea       6\n",
      "GarageYrBlt     58\n",
      "dtype: int64\n"
     ]
    }
   ],
   "source": [
    "# Shape of training data (num_rows, num_columns)\n",
    "print(X_train.shape)\n",
    "\n",
    "# Number of missing values in each column of training data\n",
    "missing_val_count_by_column = (X_train.isnull().sum())\n",
    "print(missing_val_count_by_column[missing_val_count_by_column > 0])"
   ]
  },
  {
   "cell_type": "markdown",
   "id": "b61e16b7",
   "metadata": {
    "papermill": {
     "duration": 0.007128,
     "end_time": "2023-10-18T05:19:53.195195",
     "exception": false,
     "start_time": "2023-10-18T05:19:53.188067",
     "status": "completed"
    },
    "tags": []
   },
   "source": [
    "### Part A\n",
    "\n",
    "Use the above output to answer the questions below."
   ]
  },
  {
   "cell_type": "code",
   "execution_count": 5,
   "id": "91b9e9ca",
   "metadata": {
    "execution": {
     "iopub.execute_input": "2023-10-18T05:19:53.211798Z",
     "iopub.status.busy": "2023-10-18T05:19:53.211463Z",
     "iopub.status.idle": "2023-10-18T05:19:53.219547Z",
     "shell.execute_reply": "2023-10-18T05:19:53.218845Z"
    },
    "papermill": {
     "duration": 0.018656,
     "end_time": "2023-10-18T05:19:53.221369",
     "exception": false,
     "start_time": "2023-10-18T05:19:53.202713",
     "status": "completed"
    },
    "tags": []
   },
   "outputs": [
    {
     "data": {
      "application/javascript": [
       "parent.postMessage({\"jupyterEvent\": \"custom.exercise_interaction\", \"data\": {\"outcomeType\": 1, \"valueTowardsCompletion\": 1.0, \"interactionType\": 1, \"questionType\": 1, \"questionId\": \"1.1_InvestigateEquality\", \"learnToolsVersion\": \"0.3.4\", \"failureMessage\": \"\", \"exceptionClass\": \"\", \"trace\": \"\"}}, \"*\")"
      ],
      "text/plain": [
       "<IPython.core.display.Javascript object>"
      ]
     },
     "metadata": {},
     "output_type": "display_data"
    },
    {
     "data": {
      "text/markdown": [
       "<span style=\"color:#33cc33\">Correct</span>"
      ],
      "text/plain": [
       "Correct"
      ]
     },
     "metadata": {},
     "output_type": "display_data"
    }
   ],
   "source": [
    "# Fill in the line below: How many rows are in the training data?\n",
    "num_rows = 1168\n",
    "\n",
    "# Fill in the line below: How many columns in the training data\n",
    "# have missing values?\n",
    "num_cols_with_missing = 3\n",
    "\n",
    "# Fill in the line below: How many missing entries are contained in \n",
    "# all of the training data?\n",
    "tot_missing = 276\n",
    "\n",
    "# Check your answers\n",
    "step_1.a.check()"
   ]
  },
  {
   "cell_type": "code",
   "execution_count": 6,
   "id": "622ecc13",
   "metadata": {
    "execution": {
     "iopub.execute_input": "2023-10-18T05:19:53.239380Z",
     "iopub.status.busy": "2023-10-18T05:19:53.238704Z",
     "iopub.status.idle": "2023-10-18T05:19:53.242243Z",
     "shell.execute_reply": "2023-10-18T05:19:53.241552Z"
    },
    "papermill": {
     "duration": 0.014997,
     "end_time": "2023-10-18T05:19:53.244205",
     "exception": false,
     "start_time": "2023-10-18T05:19:53.229208",
     "status": "completed"
    },
    "tags": []
   },
   "outputs": [],
   "source": [
    "# Lines below will give you a hint or solution code\n",
    "#step_1.a.hint()\n",
    "#step_1.a.solution()"
   ]
  },
  {
   "cell_type": "markdown",
   "id": "86941d0c",
   "metadata": {
    "papermill": {
     "duration": 0.007316,
     "end_time": "2023-10-18T05:19:53.259370",
     "exception": false,
     "start_time": "2023-10-18T05:19:53.252054",
     "status": "completed"
    },
    "tags": []
   },
   "source": [
    "### Part B\n",
    "Considering your answers above, what do you think is likely the best approach to dealing with the missing values?"
   ]
  },
  {
   "cell_type": "code",
   "execution_count": 7,
   "id": "5c4303b3",
   "metadata": {
    "execution": {
     "iopub.execute_input": "2023-10-18T05:19:53.276597Z",
     "iopub.status.busy": "2023-10-18T05:19:53.275796Z",
     "iopub.status.idle": "2023-10-18T05:19:53.282599Z",
     "shell.execute_reply": "2023-10-18T05:19:53.281832Z"
    },
    "papermill": {
     "duration": 0.017444,
     "end_time": "2023-10-18T05:19:53.284513",
     "exception": false,
     "start_time": "2023-10-18T05:19:53.267069",
     "status": "completed"
    },
    "tags": []
   },
   "outputs": [
    {
     "data": {
      "application/javascript": [
       "parent.postMessage({\"jupyterEvent\": \"custom.exercise_interaction\", \"data\": {\"outcomeType\": 1, \"valueTowardsCompletion\": 1.0, \"interactionType\": 1, \"questionType\": 4, \"questionId\": \"1.2_InvestigateThought\", \"learnToolsVersion\": \"0.3.4\", \"failureMessage\": \"\", \"exceptionClass\": \"\", \"trace\": \"\"}}, \"*\")"
      ],
      "text/plain": [
       "<IPython.core.display.Javascript object>"
      ]
     },
     "metadata": {},
     "output_type": "display_data"
    },
    {
     "data": {
      "text/markdown": [
       "<span style=\"color:#33cc33\">Correct:</span> \n",
       "\n",
       "Since there are relatively few missing entries in the data (the column with the greatest percentage of missing values is missing less than 20% of its entries), we can expect that dropping columns is unlikely to yield good results.  This is because we'd be throwing away a lot of valuable data, and so imputation will likely perform better."
      ],
      "text/plain": [
       "Correct: \n",
       "\n",
       "Since there are relatively few missing entries in the data (the column with the greatest percentage of missing values is missing less than 20% of its entries), we can expect that dropping columns is unlikely to yield good results.  This is because we'd be throwing away a lot of valuable data, and so imputation will likely perform better."
      ]
     },
     "metadata": {},
     "output_type": "display_data"
    }
   ],
   "source": [
    "# Check your answer (Run this code cell to receive credit!)\n",
    "step_1.b.check()"
   ]
  },
  {
   "cell_type": "code",
   "execution_count": 8,
   "id": "637179d0",
   "metadata": {
    "execution": {
     "iopub.execute_input": "2023-10-18T05:19:53.303207Z",
     "iopub.status.busy": "2023-10-18T05:19:53.302532Z",
     "iopub.status.idle": "2023-10-18T05:19:53.306306Z",
     "shell.execute_reply": "2023-10-18T05:19:53.305597Z"
    },
    "papermill": {
     "duration": 0.015018,
     "end_time": "2023-10-18T05:19:53.308276",
     "exception": false,
     "start_time": "2023-10-18T05:19:53.293258",
     "status": "completed"
    },
    "tags": []
   },
   "outputs": [],
   "source": [
    "#step_1.b.hint()"
   ]
  },
  {
   "cell_type": "markdown",
   "id": "51487a26",
   "metadata": {
    "papermill": {
     "duration": 0.00757,
     "end_time": "2023-10-18T05:19:53.323858",
     "exception": false,
     "start_time": "2023-10-18T05:19:53.316288",
     "status": "completed"
    },
    "tags": []
   },
   "source": [
    "To compare different approaches to dealing with missing values, you'll use the same `score_dataset()` function from the tutorial.  This function reports the [mean absolute error](https://en.wikipedia.org/wiki/Mean_absolute_error) (MAE) from a random forest model."
   ]
  },
  {
   "cell_type": "code",
   "execution_count": 9,
   "id": "988b21d9",
   "metadata": {
    "execution": {
     "iopub.execute_input": "2023-10-18T05:19:53.341588Z",
     "iopub.status.busy": "2023-10-18T05:19:53.340907Z",
     "iopub.status.idle": "2023-10-18T05:19:53.789997Z",
     "shell.execute_reply": "2023-10-18T05:19:53.789034Z"
    },
    "papermill": {
     "duration": 0.460689,
     "end_time": "2023-10-18T05:19:53.792506",
     "exception": false,
     "start_time": "2023-10-18T05:19:53.331817",
     "status": "completed"
    },
    "tags": []
   },
   "outputs": [],
   "source": [
    "from sklearn.ensemble import RandomForestRegressor\n",
    "from sklearn.metrics import mean_absolute_error\n",
    "\n",
    "# Function for comparing different approaches\n",
    "def score_dataset(X_train, X_valid, y_train, y_valid):\n",
    "    model = RandomForestRegressor(n_estimators=100, random_state=0)\n",
    "    model.fit(X_train, y_train)\n",
    "    preds = model.predict(X_valid)\n",
    "    return mean_absolute_error(y_valid, preds)"
   ]
  },
  {
   "cell_type": "markdown",
   "id": "764fa386",
   "metadata": {
    "papermill": {
     "duration": 0.007501,
     "end_time": "2023-10-18T05:19:53.808020",
     "exception": false,
     "start_time": "2023-10-18T05:19:53.800519",
     "status": "completed"
    },
    "tags": []
   },
   "source": [
    "# Step 2: Drop columns with missing values\n",
    "\n",
    "In this step, you'll preprocess the data in `X_train` and `X_valid` to remove columns with missing values.  Set the preprocessed DataFrames to `reduced_X_train` and `reduced_X_valid`, respectively.  "
   ]
  },
  {
   "cell_type": "code",
   "execution_count": 10,
   "id": "b8f0aa62",
   "metadata": {
    "execution": {
     "iopub.execute_input": "2023-10-18T05:19:53.825511Z",
     "iopub.status.busy": "2023-10-18T05:19:53.825146Z",
     "iopub.status.idle": "2023-10-18T05:19:53.844129Z",
     "shell.execute_reply": "2023-10-18T05:19:53.843254Z"
    },
    "papermill": {
     "duration": 0.030352,
     "end_time": "2023-10-18T05:19:53.846217",
     "exception": false,
     "start_time": "2023-10-18T05:19:53.815865",
     "status": "completed"
    },
    "tags": []
   },
   "outputs": [
    {
     "data": {
      "application/javascript": [
       "parent.postMessage({\"jupyterEvent\": \"custom.exercise_interaction\", \"data\": {\"outcomeType\": 1, \"valueTowardsCompletion\": 1.0, \"interactionType\": 1, \"questionType\": 2, \"questionId\": \"2_DropMissing\", \"learnToolsVersion\": \"0.3.4\", \"failureMessage\": \"\", \"exceptionClass\": \"\", \"trace\": \"\"}}, \"*\")"
      ],
      "text/plain": [
       "<IPython.core.display.Javascript object>"
      ]
     },
     "metadata": {},
     "output_type": "display_data"
    },
    {
     "data": {
      "text/markdown": [
       "<span style=\"color:#33cc33\">Correct</span>"
      ],
      "text/plain": [
       "Correct"
      ]
     },
     "metadata": {},
     "output_type": "display_data"
    }
   ],
   "source": [
    "# Fill in the line below: get names of columns with missing values\n",
    "feature_names = ['LotFrontage','MasVnrArea','GarageYrBlt'] # Your code here\n",
    "\n",
    "# Fill in the lines below: drop columns in training and validation data\n",
    "reduced_X_train = X_train.drop(feature_names , axis=1)\n",
    "reduced_X_valid = X_valid.drop(feature_names , axis=1)\n",
    "\n",
    "# Check your answers\n",
    "step_2.check()"
   ]
  },
  {
   "cell_type": "code",
   "execution_count": 11,
   "id": "26f34140",
   "metadata": {
    "execution": {
     "iopub.execute_input": "2023-10-18T05:19:53.863893Z",
     "iopub.status.busy": "2023-10-18T05:19:53.863572Z",
     "iopub.status.idle": "2023-10-18T05:19:53.867640Z",
     "shell.execute_reply": "2023-10-18T05:19:53.866463Z"
    },
    "papermill": {
     "duration": 0.015077,
     "end_time": "2023-10-18T05:19:53.869579",
     "exception": false,
     "start_time": "2023-10-18T05:19:53.854502",
     "status": "completed"
    },
    "tags": []
   },
   "outputs": [],
   "source": [
    "# Lines below will give you a hint or solution code\n",
    "#step_2.hint()\n",
    "#step_2.solution()"
   ]
  },
  {
   "cell_type": "markdown",
   "id": "5b1c4d05",
   "metadata": {
    "papermill": {
     "duration": 0.007875,
     "end_time": "2023-10-18T05:19:53.885673",
     "exception": false,
     "start_time": "2023-10-18T05:19:53.877798",
     "status": "completed"
    },
    "tags": []
   },
   "source": [
    "Run the next code cell without changes to obtain the MAE for this approach."
   ]
  },
  {
   "cell_type": "code",
   "execution_count": 12,
   "id": "136403f2",
   "metadata": {
    "execution": {
     "iopub.execute_input": "2023-10-18T05:19:53.904345Z",
     "iopub.status.busy": "2023-10-18T05:19:53.903715Z",
     "iopub.status.idle": "2023-10-18T05:19:55.128054Z",
     "shell.execute_reply": "2023-10-18T05:19:55.126918Z"
    },
    "papermill": {
     "duration": 1.235819,
     "end_time": "2023-10-18T05:19:55.130196",
     "exception": false,
     "start_time": "2023-10-18T05:19:53.894377",
     "status": "completed"
    },
    "tags": []
   },
   "outputs": [
    {
     "name": "stdout",
     "output_type": "stream",
     "text": [
      "MAE (Drop columns with missing values):\n",
      "17837.82570776256\n"
     ]
    }
   ],
   "source": [
    "print(\"MAE (Drop columns with missing values):\")\n",
    "print(score_dataset(reduced_X_train, reduced_X_valid, y_train, y_valid))"
   ]
  },
  {
   "cell_type": "markdown",
   "id": "ed38db17",
   "metadata": {
    "papermill": {
     "duration": 0.007679,
     "end_time": "2023-10-18T05:19:55.146154",
     "exception": false,
     "start_time": "2023-10-18T05:19:55.138475",
     "status": "completed"
    },
    "tags": []
   },
   "source": [
    "# Step 3: Imputation\n",
    "\n",
    "### Part A\n",
    "\n",
    "Use the next code cell to impute missing values with the mean value along each column.  Set the preprocessed DataFrames to `imputed_X_train` and `imputed_X_valid`.  Make sure that the column names match those in `X_train` and `X_valid`."
   ]
  },
  {
   "cell_type": "code",
   "execution_count": 13,
   "id": "98b39a4e",
   "metadata": {
    "execution": {
     "iopub.execute_input": "2023-10-18T05:19:55.164004Z",
     "iopub.status.busy": "2023-10-18T05:19:55.163665Z",
     "iopub.status.idle": "2023-10-18T05:19:55.200282Z",
     "shell.execute_reply": "2023-10-18T05:19:55.199364Z"
    },
    "papermill": {
     "duration": 0.048255,
     "end_time": "2023-10-18T05:19:55.202421",
     "exception": false,
     "start_time": "2023-10-18T05:19:55.154166",
     "status": "completed"
    },
    "tags": []
   },
   "outputs": [
    {
     "data": {
      "application/javascript": [
       "parent.postMessage({\"jupyterEvent\": \"custom.exercise_interaction\", \"data\": {\"outcomeType\": 1, \"valueTowardsCompletion\": 1.0, \"interactionType\": 1, \"questionType\": 2, \"questionId\": \"3.1_ImputeCode\", \"learnToolsVersion\": \"0.3.4\", \"failureMessage\": \"\", \"exceptionClass\": \"\", \"trace\": \"\"}}, \"*\")"
      ],
      "text/plain": [
       "<IPython.core.display.Javascript object>"
      ]
     },
     "metadata": {},
     "output_type": "display_data"
    },
    {
     "data": {
      "text/markdown": [
       "<span style=\"color:#33cc33\">Correct</span>"
      ],
      "text/plain": [
       "Correct"
      ]
     },
     "metadata": {},
     "output_type": "display_data"
    }
   ],
   "source": [
    "from sklearn.impute import SimpleImputer\n",
    "\n",
    "# Fill in the lines below: imputation\n",
    "my_imputer = SimpleImputer() # Your code here\n",
    "imputed_X_train = pd.DataFrame(my_imputer.fit_transform(X_train))\n",
    "imputed_X_valid = pd.DataFrame(my_imputer.transform(X_valid))\n",
    "\n",
    "# Fill in the lines below: imputation removed column names; put them back\n",
    "imputed_X_train.columns = X_train.columns\n",
    "imputed_X_valid.columns = X_valid.columns \n",
    "\n",
    "# Check your answers\n",
    "step_3.a.check()"
   ]
  },
  {
   "cell_type": "code",
   "execution_count": 14,
   "id": "582a75cb",
   "metadata": {
    "execution": {
     "iopub.execute_input": "2023-10-18T05:19:55.278870Z",
     "iopub.status.busy": "2023-10-18T05:19:55.278493Z",
     "iopub.status.idle": "2023-10-18T05:19:55.282436Z",
     "shell.execute_reply": "2023-10-18T05:19:55.281512Z"
    },
    "papermill": {
     "duration": 0.015396,
     "end_time": "2023-10-18T05:19:55.284222",
     "exception": false,
     "start_time": "2023-10-18T05:19:55.268826",
     "status": "completed"
    },
    "tags": []
   },
   "outputs": [],
   "source": [
    "# Lines below will give you a hint or solution code\n",
    "#step_3.a.hint()\n",
    "#step_3.a.solution()"
   ]
  },
  {
   "cell_type": "markdown",
   "id": "cecc6ae5",
   "metadata": {
    "papermill": {
     "duration": 0.008293,
     "end_time": "2023-10-18T05:19:55.303533",
     "exception": false,
     "start_time": "2023-10-18T05:19:55.295240",
     "status": "completed"
    },
    "tags": []
   },
   "source": [
    "Run the next code cell without changes to obtain the MAE for this approach."
   ]
  },
  {
   "cell_type": "code",
   "execution_count": 15,
   "id": "d3e5011e",
   "metadata": {
    "execution": {
     "iopub.execute_input": "2023-10-18T05:19:55.323637Z",
     "iopub.status.busy": "2023-10-18T05:19:55.322691Z",
     "iopub.status.idle": "2023-10-18T05:19:56.674232Z",
     "shell.execute_reply": "2023-10-18T05:19:56.673096Z"
    },
    "papermill": {
     "duration": 1.363521,
     "end_time": "2023-10-18T05:19:56.676599",
     "exception": false,
     "start_time": "2023-10-18T05:19:55.313078",
     "status": "completed"
    },
    "tags": []
   },
   "outputs": [
    {
     "name": "stdout",
     "output_type": "stream",
     "text": [
      "MAE (Imputation):\n",
      "18062.894611872147\n"
     ]
    }
   ],
   "source": [
    "print(\"MAE (Imputation):\")\n",
    "print(score_dataset(imputed_X_train, imputed_X_valid, y_train, y_valid))"
   ]
  },
  {
   "cell_type": "markdown",
   "id": "0869d674",
   "metadata": {
    "papermill": {
     "duration": 0.009252,
     "end_time": "2023-10-18T05:19:56.695471",
     "exception": false,
     "start_time": "2023-10-18T05:19:56.686219",
     "status": "completed"
    },
    "tags": []
   },
   "source": [
    "### Part B\n",
    "\n",
    "Compare the MAE from each approach.  Does anything surprise you about the results?  Why do you think one approach performed better than the other?"
   ]
  },
  {
   "cell_type": "code",
   "execution_count": 16,
   "id": "8c6dcdc2",
   "metadata": {
    "execution": {
     "iopub.execute_input": "2023-10-18T05:19:56.716715Z",
     "iopub.status.busy": "2023-10-18T05:19:56.716378Z",
     "iopub.status.idle": "2023-10-18T05:19:56.725240Z",
     "shell.execute_reply": "2023-10-18T05:19:56.724509Z"
    },
    "papermill": {
     "duration": 0.021553,
     "end_time": "2023-10-18T05:19:56.727358",
     "exception": false,
     "start_time": "2023-10-18T05:19:56.705805",
     "status": "completed"
    },
    "tags": []
   },
   "outputs": [
    {
     "data": {
      "application/javascript": [
       "parent.postMessage({\"jupyterEvent\": \"custom.exercise_interaction\", \"data\": {\"outcomeType\": 1, \"valueTowardsCompletion\": 1.0, \"interactionType\": 1, \"questionType\": 4, \"questionId\": \"3.2_ImputeThought\", \"learnToolsVersion\": \"0.3.4\", \"failureMessage\": \"\", \"exceptionClass\": \"\", \"trace\": \"\"}}, \"*\")"
      ],
      "text/plain": [
       "<IPython.core.display.Javascript object>"
      ]
     },
     "metadata": {},
     "output_type": "display_data"
    },
    {
     "data": {
      "text/markdown": [
       "<span style=\"color:#33cc33\">Correct:</span> \n",
       "\n",
       "Given that thre are so few missing values in the dataset, we'd expect imputation to perform better than dropping columns entirely.  However, we see that dropping columns performs slightly better!  While this can probably partially be attributed to noise in the dataset, another potential explanation is that the imputation method is not a great match to this dataset.  That is, maybe instead of filling in the mean value, it makes more sense to set every missing value to a value of 0, to fill in the most frequently encountered value, or to use some other method.  For instance, consider the `GarageYrBlt` column (which indicates the year that the garage was built).  It's likely that in some cases, a missing value could indicate a house that does not have a garage.  Does it make more sense to fill in the median value along each column in this case?  Or could we get better results by filling in the minimum value along each column?  It's not quite clear what's best in this case, but perhaps we can rule out some options immediately - for instance, setting missing values in this column to 0 is likely to yield horrible results!"
      ],
      "text/plain": [
       "Correct: \n",
       "\n",
       "Given that thre are so few missing values in the dataset, we'd expect imputation to perform better than dropping columns entirely.  However, we see that dropping columns performs slightly better!  While this can probably partially be attributed to noise in the dataset, another potential explanation is that the imputation method is not a great match to this dataset.  That is, maybe instead of filling in the mean value, it makes more sense to set every missing value to a value of 0, to fill in the most frequently encountered value, or to use some other method.  For instance, consider the `GarageYrBlt` column (which indicates the year that the garage was built).  It's likely that in some cases, a missing value could indicate a house that does not have a garage.  Does it make more sense to fill in the median value along each column in this case?  Or could we get better results by filling in the minimum value along each column?  It's not quite clear what's best in this case, but perhaps we can rule out some options immediately - for instance, setting missing values in this column to 0 is likely to yield horrible results!"
      ]
     },
     "metadata": {},
     "output_type": "display_data"
    }
   ],
   "source": [
    "# Check your answer (Run this code cell to receive credit!)\n",
    "step_3.b.check()"
   ]
  },
  {
   "cell_type": "code",
   "execution_count": 17,
   "id": "64ba56bd",
   "metadata": {
    "execution": {
     "iopub.execute_input": "2023-10-18T05:19:56.746439Z",
     "iopub.status.busy": "2023-10-18T05:19:56.746071Z",
     "iopub.status.idle": "2023-10-18T05:19:56.750231Z",
     "shell.execute_reply": "2023-10-18T05:19:56.749136Z"
    },
    "papermill": {
     "duration": 0.015947,
     "end_time": "2023-10-18T05:19:56.752156",
     "exception": false,
     "start_time": "2023-10-18T05:19:56.736209",
     "status": "completed"
    },
    "tags": []
   },
   "outputs": [],
   "source": [
    "#step_3.b.hint()"
   ]
  },
  {
   "cell_type": "markdown",
   "id": "44c2b00b",
   "metadata": {
    "papermill": {
     "duration": 0.008692,
     "end_time": "2023-10-18T05:19:56.769591",
     "exception": false,
     "start_time": "2023-10-18T05:19:56.760899",
     "status": "completed"
    },
    "tags": []
   },
   "source": [
    "# Step 4: Generate test predictions\n",
    "\n",
    "In this final step, you'll use any approach of your choosing to deal with missing values.  Once you've preprocessed the training and validation features, you'll train and evaluate a random forest model.  Then, you'll preprocess the test data before generating predictions that can be submitted to the competition!\n",
    "\n",
    "### Part A\n",
    "\n",
    "Use the next code cell to preprocess the training and validation data.  Set the preprocessed DataFrames to `final_X_train` and `final_X_valid`.  **You can use any approach of your choosing here!**  in order for this step to be marked as correct, you need only ensure:\n",
    "- the preprocessed DataFrames have the same number of columns,\n",
    "- the preprocessed DataFrames have no missing values, \n",
    "- `final_X_train` and `y_train` have the same number of rows, and\n",
    "- `final_X_valid` and `y_valid` have the same number of rows."
   ]
  },
  {
   "cell_type": "code",
   "execution_count": 18,
   "id": "3b1ae47d",
   "metadata": {
    "execution": {
     "iopub.execute_input": "2023-10-18T05:19:56.790660Z",
     "iopub.status.busy": "2023-10-18T05:19:56.790200Z",
     "iopub.status.idle": "2023-10-18T05:19:56.816580Z",
     "shell.execute_reply": "2023-10-18T05:19:56.815479Z"
    },
    "papermill": {
     "duration": 0.04014,
     "end_time": "2023-10-18T05:19:56.818671",
     "exception": false,
     "start_time": "2023-10-18T05:19:56.778531",
     "status": "completed"
    },
    "tags": []
   },
   "outputs": [
    {
     "data": {
      "application/javascript": [
       "parent.postMessage({\"jupyterEvent\": \"custom.exercise_interaction\", \"data\": {\"outcomeType\": 1, \"valueTowardsCompletion\": 1.0, \"interactionType\": 1, \"questionType\": 2, \"questionId\": \"4.1_PredsCodeA\", \"learnToolsVersion\": \"0.3.4\", \"failureMessage\": \"\", \"exceptionClass\": \"\", \"trace\": \"\"}}, \"*\")"
      ],
      "text/plain": [
       "<IPython.core.display.Javascript object>"
      ]
     },
     "metadata": {},
     "output_type": "display_data"
    },
    {
     "data": {
      "text/markdown": [
       "<span style=\"color:#33cc33\">Correct</span>"
      ],
      "text/plain": [
       "Correct"
      ]
     },
     "metadata": {},
     "output_type": "display_data"
    }
   ],
   "source": [
    "# Preprocessed training and validation features\n",
    "final_X_train = pd.DataFrame(my_imputer.fit_transform(X_train))\n",
    "final_X_valid = pd.DataFrame(my_imputer.transform(X_valid))\n",
    "\n",
    "# Check your answers\n",
    "step_4.a.check()"
   ]
  },
  {
   "cell_type": "code",
   "execution_count": 19,
   "id": "30e44a5c",
   "metadata": {
    "execution": {
     "iopub.execute_input": "2023-10-18T05:19:56.838878Z",
     "iopub.status.busy": "2023-10-18T05:19:56.838263Z",
     "iopub.status.idle": "2023-10-18T05:19:56.842289Z",
     "shell.execute_reply": "2023-10-18T05:19:56.841630Z"
    },
    "papermill": {
     "duration": 0.016328,
     "end_time": "2023-10-18T05:19:56.844127",
     "exception": false,
     "start_time": "2023-10-18T05:19:56.827799",
     "status": "completed"
    },
    "tags": []
   },
   "outputs": [],
   "source": [
    "# Lines below will give you a hint or solution code\n",
    "#step_4.a.hint()\n",
    "#step_4.a.solution()"
   ]
  },
  {
   "cell_type": "markdown",
   "id": "b0bef97d",
   "metadata": {
    "papermill": {
     "duration": 0.008633,
     "end_time": "2023-10-18T05:19:56.861773",
     "exception": false,
     "start_time": "2023-10-18T05:19:56.853140",
     "status": "completed"
    },
    "tags": []
   },
   "source": [
    "Run the next code cell to train and evaluate a random forest model.  (*Note that we don't use the `score_dataset()` function above, because we will soon use the trained model to generate test predictions!*)"
   ]
  },
  {
   "cell_type": "code",
   "execution_count": 20,
   "id": "a89bb6f4",
   "metadata": {
    "execution": {
     "iopub.execute_input": "2023-10-18T05:19:56.881831Z",
     "iopub.status.busy": "2023-10-18T05:19:56.881234Z",
     "iopub.status.idle": "2023-10-18T05:19:58.251324Z",
     "shell.execute_reply": "2023-10-18T05:19:58.250163Z"
    },
    "papermill": {
     "duration": 1.382887,
     "end_time": "2023-10-18T05:19:58.253649",
     "exception": false,
     "start_time": "2023-10-18T05:19:56.870762",
     "status": "completed"
    },
    "tags": []
   },
   "outputs": [
    {
     "name": "stdout",
     "output_type": "stream",
     "text": [
      "MAE (Your approach):\n",
      "18062.894611872147\n"
     ]
    }
   ],
   "source": [
    "# Define and fit model\n",
    "model = RandomForestRegressor(n_estimators=100, random_state=0)\n",
    "model.fit(final_X_train, y_train)\n",
    "\n",
    "# Get validation predictions and MAE\n",
    "preds_valid = model.predict(final_X_valid)\n",
    "print(\"MAE (Your approach):\")\n",
    "print(mean_absolute_error(y_valid, preds_valid))"
   ]
  },
  {
   "cell_type": "markdown",
   "id": "88488bcc",
   "metadata": {
    "papermill": {
     "duration": 0.009148,
     "end_time": "2023-10-18T05:19:58.272682",
     "exception": false,
     "start_time": "2023-10-18T05:19:58.263534",
     "status": "completed"
    },
    "tags": []
   },
   "source": [
    "### Part B\n",
    "\n",
    "Use the next code cell to preprocess your test data.  Make sure that you use a method that agrees with how you preprocessed the training and validation data, and set the preprocessed test features to `final_X_test`.\n",
    "\n",
    "Then, use the preprocessed test features and the trained model to generate test predictions in `preds_test`.\n",
    "\n",
    "In order for this step to be marked correct, you need only ensure:\n",
    "- the preprocessed test DataFrame has no missing values, and\n",
    "- `final_X_test` has the same number of rows as `X_test`."
   ]
  },
  {
   "cell_type": "code",
   "execution_count": 21,
   "id": "6d020879",
   "metadata": {
    "execution": {
     "iopub.execute_input": "2023-10-18T05:19:58.296109Z",
     "iopub.status.busy": "2023-10-18T05:19:58.295061Z",
     "iopub.status.idle": "2023-10-18T05:19:58.339178Z",
     "shell.execute_reply": "2023-10-18T05:19:58.338525Z"
    },
    "papermill": {
     "duration": 0.058801,
     "end_time": "2023-10-18T05:19:58.341001",
     "exception": false,
     "start_time": "2023-10-18T05:19:58.282200",
     "status": "completed"
    },
    "tags": []
   },
   "outputs": [
    {
     "data": {
      "application/javascript": [
       "parent.postMessage({\"jupyterEvent\": \"custom.exercise_interaction\", \"data\": {\"outcomeType\": 1, \"valueTowardsCompletion\": 1.0, \"interactionType\": 1, \"questionType\": 2, \"questionId\": \"4.2_PredsCodeB\", \"learnToolsVersion\": \"0.3.4\", \"failureMessage\": \"\", \"exceptionClass\": \"\", \"trace\": \"\"}}, \"*\")"
      ],
      "text/plain": [
       "<IPython.core.display.Javascript object>"
      ]
     },
     "metadata": {},
     "output_type": "display_data"
    },
    {
     "data": {
      "text/markdown": [
       "<span style=\"color:#33cc33\">Correct</span>"
      ],
      "text/plain": [
       "Correct"
      ]
     },
     "metadata": {},
     "output_type": "display_data"
    }
   ],
   "source": [
    "# Fill in the line below: preprocess test data\n",
    "final_X_test = pd.DataFrame(my_imputer.fit_transform(X_test))\n",
    "\n",
    "# Fill in the line below: get test predictions\n",
    "preds_test = model.predict(final_X_test)\n",
    "\n",
    "# Check your answers\n",
    "step_4.b.check()"
   ]
  },
  {
   "cell_type": "code",
   "execution_count": 22,
   "id": "94870251",
   "metadata": {
    "execution": {
     "iopub.execute_input": "2023-10-18T05:19:58.361626Z",
     "iopub.status.busy": "2023-10-18T05:19:58.360791Z",
     "iopub.status.idle": "2023-10-18T05:19:58.365313Z",
     "shell.execute_reply": "2023-10-18T05:19:58.364448Z"
    },
    "papermill": {
     "duration": 0.016891,
     "end_time": "2023-10-18T05:19:58.367207",
     "exception": false,
     "start_time": "2023-10-18T05:19:58.350316",
     "status": "completed"
    },
    "tags": []
   },
   "outputs": [],
   "source": [
    "# Lines below will give you a hint or solution code\n",
    "#step_4.b.hint()\n",
    "#step_4.b.solution()"
   ]
  },
  {
   "cell_type": "markdown",
   "id": "34d8f2ad",
   "metadata": {
    "papermill": {
     "duration": 0.009194,
     "end_time": "2023-10-18T05:19:58.385974",
     "exception": false,
     "start_time": "2023-10-18T05:19:58.376780",
     "status": "completed"
    },
    "tags": []
   },
   "source": [
    "Run the next code cell without changes to save your results to a CSV file that can be submitted directly to the competition."
   ]
  },
  {
   "cell_type": "code",
   "execution_count": 23,
   "id": "00f7a1e8",
   "metadata": {
    "execution": {
     "iopub.execute_input": "2023-10-18T05:19:58.406538Z",
     "iopub.status.busy": "2023-10-18T05:19:58.406190Z",
     "iopub.status.idle": "2023-10-18T05:19:58.418875Z",
     "shell.execute_reply": "2023-10-18T05:19:58.417870Z"
    },
    "papermill": {
     "duration": 0.025782,
     "end_time": "2023-10-18T05:19:58.421331",
     "exception": false,
     "start_time": "2023-10-18T05:19:58.395549",
     "status": "completed"
    },
    "tags": []
   },
   "outputs": [],
   "source": [
    "# Save test predictions to file\n",
    "output = pd.DataFrame({'Id': X_test.index,\n",
    "                       'SalePrice': preds_test})\n",
    "output.to_csv('submission.csv', index=False)"
   ]
  },
  {
   "cell_type": "markdown",
   "id": "a989ad18",
   "metadata": {
    "papermill": {
     "duration": 0.009094,
     "end_time": "2023-10-18T05:19:58.439957",
     "exception": false,
     "start_time": "2023-10-18T05:19:58.430863",
     "status": "completed"
    },
    "tags": []
   },
   "source": [
    "# Submit your results\n",
    "\n",
    "Once you have successfully completed Step 4, you're ready to submit your results to the leaderboard!  (_You also learned how to do this in the previous exercise.  If you need a reminder of how to do this, please use the instructions below._)  \n",
    "\n",
    "First, you'll need to join the competition if you haven't already.  So open a new window by clicking on [this link](https://www.kaggle.com/c/home-data-for-ml-course).  Then click on the **Join Competition** button.\n",
    "\n",
    "![join competition image](https://storage.googleapis.com/kaggle-media/learn/images/wLmFtH3.png)\n",
    "\n",
    "Next, follow the instructions below:\n",
    "1. Begin by clicking on the **Save Version** button in the top right corner of the window.  This will generate a pop-up window.  \n",
    "2. Ensure that the **Save and Run All** option is selected, and then click on the **Save** button.\n",
    "3. This generates a window in the bottom left corner of the notebook.  After it has finished running, click on the number to the right of the **Save Version** button.  This pulls up a list of versions on the right of the screen.  Click on the ellipsis **(...)** to the right of the most recent version, and select **Open in Viewer**.  This brings you into view mode of the same page. You will need to scroll down to get back to these instructions.\n",
    "4. Click on the **Data** tab near the top of the screen.  Then, click on the file you would like to submit, and click on the **Submit** button to submit your results to the leaderboard.\n",
    "\n",
    "You have now successfully submitted to the competition!\n",
    "\n",
    "If you want to keep working to improve your performance, select the **Edit** button in the top right of the screen. Then you can change your code and repeat the process. There's a lot of room to improve, and you will climb up the leaderboard as you work.\n",
    "\n",
    "\n",
    "# Keep going\n",
    "\n",
    "Move on to learn what **[categorical variables](https://www.kaggle.com/alexisbcook/categorical-variables)** are, along with how to incorporate them into your machine learning models.  Categorical variables are very common in real-world data, but you'll get an error if you try to plug them into your models without processing them first!"
   ]
  },
  {
   "cell_type": "markdown",
   "id": "b13f8dbf",
   "metadata": {
    "papermill": {
     "duration": 0.009032,
     "end_time": "2023-10-18T05:19:58.458171",
     "exception": false,
     "start_time": "2023-10-18T05:19:58.449139",
     "status": "completed"
    },
    "tags": []
   },
   "source": [
    "---\n",
    "\n",
    "\n",
    "\n",
    "\n",
    "*Have questions or comments? Visit the [course discussion forum](https://www.kaggle.com/learn/intermediate-machine-learning/discussion) to chat with other learners.*"
   ]
  }
 ],
 "metadata": {
  "kernelspec": {
   "display_name": "Python 3",
   "language": "python",
   "name": "python3"
  },
  "language_info": {
   "codemirror_mode": {
    "name": "ipython",
    "version": 3
   },
   "file_extension": ".py",
   "mimetype": "text/x-python",
   "name": "python",
   "nbconvert_exporter": "python",
   "pygments_lexer": "ipython3",
   "version": "3.10.12"
  },
  "papermill": {
   "default_parameters": {},
   "duration": 10.903008,
   "end_time": "2023-10-18T05:19:59.089568",
   "environment_variables": {},
   "exception": null,
   "input_path": "__notebook__.ipynb",
   "output_path": "__notebook__.ipynb",
   "parameters": {},
   "start_time": "2023-10-18T05:19:48.186560",
   "version": "2.4.0"
  }
 },
 "nbformat": 4,
 "nbformat_minor": 5
}
